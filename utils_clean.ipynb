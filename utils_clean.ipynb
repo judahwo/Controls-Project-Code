{
 "cells": [
  {
   "cell_type": "markdown",
   "metadata": {},
   "source": [
    "# **`utils_clean.py`**\n",
    "\n",
    "This notebook contains the functions called by the main_clean.py script."
   ]
  },
  {
   "cell_type": "code",
   "execution_count": null,
   "metadata": {},
   "outputs": [],
   "source": [
    "from djitellopy import Tello  \n",
    "import cv2  \n",
    "import numpy as np"
   ]
  },
  {
   "cell_type": "markdown",
   "metadata": {},
   "source": [
    "| Code Example                | Code Explanation                                                      |\n",
    "|-----------------------------|------------------------------------------------------------------------|\n",
    "| `from djitellopy import Tello`  | Import the `Tello` class from the `djitellopy` library for drone control. |\n",
    "| `import cv2`                  | Import OpenCV (`cv2`), a library for computer vision tasks.                 |\n",
    "| `import numpy as np`          | Import the `numpy` library for numerical operations and alias it as `np`.  |\n"
   ]
  },
  {
   "cell_type": "code",
   "execution_count": null,
   "metadata": {},
   "outputs": [],
   "source": [
    "def initializeTello():\n",
    "    \"\"\"Initialize Tello drone and return the object.\n",
    "\n",
    "    param: None\n",
    "\n",
    "    return: Tello object\n",
    "    \"\"\"\n",
    "    myDrone = Tello()\n",
    "    myDrone.connect()\n",
    "    myDrone.for_back_velocity = myDrone.left_right_velocity = myDrone.up_down_velocity = myDrone.yaw_velocity = myDrone.speed = 0\n",
    "    print(f\"Drone Battery: {myDrone.get_battery()}%\")\n",
    "    myDrone.streamoff()\n",
    "    myDrone.streamon()\n",
    "    return myDrone"
   ]
  },
  {
   "cell_type": "markdown",
   "metadata": {},
   "source": [
    "| Code Example                            | Code Explanation                                                               |\n",
    "|-----------------------------------------|---------------------------------------------------------------------------------|\n",
    "| `def initializeTello():`                | Define a function named `initializeTello` with no parameters.                   |\n",
    "| `\"\"\"Initialize Tello drone and ...`     | A docstring providing a brief description of the function's purpose and its return type.  |\n",
    "| `myDrone = Tello()`                     | Create a new Tello drone object and store it in the variable `myDrone`.         |\n",
    "| `myDrone.connect()`                     | Establish a connection between the program and the Tello drone.                 |\n",
    "| `myDrone.for_back_velocity = ... = 0`   | Initialize all drone velocities and speed to zero.                              |\n",
    "| `print(f\"Drone Battery: ...\")`          | Print the current battery level of the drone to the console.                    |\n",
    "| `myDrone.streamoff()`                   | Turn off the video stream for the drone.                                       |\n",
    "| `myDrone.streamon()`                    | Turn on the video stream for the drone.                                        |\n",
    "| `return myDrone`                        | Return the initialized Tello drone object.                                      |\n"
   ]
  },
  {
   "cell_type": "code",
   "execution_count": null,
   "metadata": {},
   "outputs": [],
   "source": [
    "def telloGetFrame(myDrone, w=360, h=240):\n",
    "    \"\"\"Capture and return a resized video frame from Tello drone.\n",
    "\n",
    "    param: myDrone: Tello object\n",
    "    param: w: frame width\n",
    "    param: h: frame height\n",
    "\n",
    "    return: resized video frame\n",
    "    \"\"\"\n",
    "\n",
    "    frame = myDrone.get_frame_read().frame\n",
    "    img = cv2.resize(frame, (w, h))\n",
    "    return img"
   ]
  },
  {
   "cell_type": "markdown",
   "metadata": {},
   "source": [
    "| Code Example                            | Code Explanation                                                                                   |\n",
    "|-----------------------------------------|-----------------------------------------------------------------------------------------------------|\n",
    "| `def telloGetFrame(myDrone, w=360, h=240):` | Define a function named `telloGetFrame` that takes a Tello object, frame width `w`, and frame height `h` as parameters. Width and height have default values of 360 and 240, respectively. |\n",
    "| `\"\"\"Capture and return ...`             | A docstring that provides a brief description of the function, its parameters, and its return type.  |\n",
    "| `frame = myDrone.get_frame_read().frame` | Retrieve the current video frame from the Tello drone and store it in the variable `frame`.          |\n",
    "| `img = cv2.resize(frame, (w, h))`       | Use OpenCV's `resize` function to resize the captured frame to the dimensions specified by `w` and `h`. Store the resized frame in the variable `img`.  |\n",
    "| `return img`                            | Return the resized video frame.                                                                      |\n"
   ]
  },
  {
   "cell_type": "code",
   "execution_count": null,
   "metadata": {},
   "outputs": [],
   "source": [
    "def findFace(img):\n",
    "    \"\"\"Detect and return largest face coordinates and area.\n",
    "\n",
    "    param: img: video frame\n",
    "\n",
    "    return: img: frame with rectangle around largest face\n",
    "    return: [cx, cy]: center of largest face\n",
    "    return: area: area of largest face\n",
    "    \"\"\"\n",
    "\n",
    "    # Detect face\n",
    "    faceCascade = cv2.CascadeClassifier('haarcascade_frontalface_default.xml')\n",
    "    imgGray = cv2.cvtColor(img, cv2.COLOR_BGR2GRAY)\n",
    "    faces = faceCascade.detectMultiScale(imgGray, 1.1, 6)\n",
    "    \n",
    "    # Get the largest face\n",
    "    myFaceListC, myFaceListArea = [], []\n",
    "    for (x, y, w, h) in faces:\n",
    "        cv2.rectangle(img, (x, y), (x+w, y+h), (0, 0, 255), 2)\n",
    "        cx, cy, area = x + w // 2, y + h // 2, w * h\n",
    "        myFaceListC.append([cx, cy])\n",
    "        myFaceListArea.append(area)\n",
    "    \n",
    "    # Return center and area of the largest face\n",
    "    if myFaceListArea:\n",
    "        i = myFaceListArea.index(max(myFaceListArea))\n",
    "        return img, [myFaceListC[i], myFaceListArea[i]]\n",
    "    return img, [[0, 0], 0]"
   ]
  },
  {
   "cell_type": "markdown",
   "metadata": {},
   "source": [
    "| Code Example                                     | Code Explanation                                                                       |\n",
    "|--------------------------------------------------|----------------------------------------------------------------------------------------|\n",
    "| `def findFace(img):`                             | Function definition; takes a video frame as input.                                      |\n",
    "| `faceCascade = cv2.CascadeClassifier(...)`       | Load OpenCV's Haar cascade classifier for frontal face detection.                       |\n",
    "| `imgGray = cv2.cvtColor(img, cv2.COLOR_BGR2GRAY)`| Convert the frame to grayscale for easier face detection.                               |\n",
    "| `faces = faceCascade.detectMultiScale(...)`      | Detect faces in the image and store their coordinates in a list.                       |\n",
    "| `myFaceListC, myFaceListArea = [], []`           | Initialize empty lists to store center coordinates and areas of detected faces.        |\n",
    "| `for (x, y, w, h) in faces:`                     | Loop through each detected face in the frame.                                          |\n",
    "| `cv2.rectangle(img, (x, y), (x+w, y+h), ...)`    | Draw a rectangle around the detected face in the frame.                                |\n",
    "| `cx, cy, area = x + w // 2, y + h // 2, w * h`   | Calculate the center coordinates and area of the current face.                          |\n",
    "| `myFaceListC.append([cx, cy])`                   | Append the center coordinates to `myFaceListC`.                                        |\n",
    "| `myFaceListArea.append(area)`                    | Append the area of the current face to `myFaceListArea`.                               |\n",
    "| `if myFaceListArea:`                              | Check if any faces were detected.                                                       |\n",
    "| `i = myFaceListArea.index(max(myFaceListArea))`  | Find the index of the face with the largest area.                                      |\n",
    "| `return img, [myFaceListC[i], myFaceListArea[i]]`| Return the frame with the largest face highlighted, its center, and its area.           |\n",
    "| `return img, [[0, 0], 0]`                         | If no faces were detected, return the frame as-is, along with a default center and area.|\n"
   ]
  },
  {
   "cell_type": "code",
   "execution_count": null,
   "metadata": {},
   "outputs": [],
   "source": [
    "def findArea(img):\n",
    "    \"\"\" Detect and return area of the largest face.\n",
    "\n",
    "    param: img: video frame\n",
    "    \n",
    "    return: area: area of the largest face\n",
    "    \"\"\"\n",
    "    \n",
    "    # Reusing findFace for getting the area\n",
    "    _, info = findFace(img)\n",
    "    return info[1] if info else 0"
   ]
  },
  {
   "cell_type": "markdown",
   "metadata": {},
   "source": [
    "| Code Example                        | Code Explanation                                                                           |\n",
    "|-------------------------------------|--------------------------------------------------------------------------------------------|\n",
    "| `def findArea(img):`                | Function definition; takes a video frame as input and returns the area of the largest face. |\n",
    "| `_, info = findFace(img)`           | Call the previously defined `findFace()` function to get face information.                  |\n",
    "| `return info[1] if info else 0`     | Return the area of the largest face; if no face is found, return 0.                        |\n"
   ]
  },
  {
   "cell_type": "code",
   "execution_count": null,
   "metadata": {},
   "outputs": [],
   "source": [
    "def trackFace(myDrone, info, w, pid_yaw, pid_fb, pError_yaw, pError_fb, facearea, h, pError_ud, pid_ud, center, desiredfacearea):\n",
    "    \"\"\"Track face and adjust drone position.\n",
    "\n",
    "    return: pError_yaw: previous error for yaw\n",
    "    return: pError_fb: previous error for forward-backward\n",
    "    return: pError_ud: previous error for up-down\n",
    "    \"\"\"\n",
    "\n",
    "    # if no face detected, return previous errors\n",
    "    if len(info) < 2:\n",
    "        return pError_yaw, pError_fb, pError_ud\n",
    "    \n",
    "    error_yaw = info[0][0] - center                                             # error for yaw\n",
    "    speed_yaw = pid_yaw[0] * error_yaw + pid_yaw[1] * (error_yaw - pError_yaw)  # PD values for yaw\n",
    "    speed_yaw = int(np.clip(speed_yaw, -60, 60))                                # clip the speed\n",
    "    \n",
    "    error_fb = facearea - desiredfacearea                                       # error for forward-backward\n",
    "    speed_fb = pid_fb[0] * error_fb + pid_fb[1] * (error_fb - pError_fb)        # PD values for forward-backward\n",
    "    speed_fb = int(np.clip(speed_fb, -20, 20))                                  # clip the speed\n",
    "\n",
    "    # PID values for up-down\n",
    "    error_ud = info[0][1] - h // 2                                              # error for up-down\n",
    "    speed_ud = pid_ud[0] * error_ud + pid_ud[1] * (error_ud - pError_ud)        # PD values for up-down\n",
    "    speed_ud = int(np.clip(speed_ud, -25, 25))                                  # clip the speed    \n",
    "    \n",
    "    # Update previous errors\n",
    "    print(speed_yaw, speed_fb, speed_ud)\n",
    "    print(center, desiredfacearea)\n",
    "    \n",
    "    # Update previous errors\n",
    "    if info[0][0]:\n",
    "        myDrone.left_right_velocity = speed_yaw if abs(speed_yaw) < 20 else 0\n",
    "        myDrone.yaw_velocity = speed_yaw if abs(speed_yaw) >= 20 else 0\n",
    "        myDrone.for_back_velocity = -speed_fb\n",
    "        myDrone.up_down_velocity = -speed_ud\n",
    "    else:\n",
    "        myDrone.for_back_velocity = myDrone.left_right_velocity = myDrone.up_down_velocity = myDrone.yaw_velocity = 0\n",
    "\n",
    "    # Update previous errors\n",
    "    if myDrone.send_rc_control:\n",
    "        myDrone.send_rc_control(myDrone.left_right_velocity, myDrone.for_back_velocity, myDrone.up_down_velocity, myDrone.yaw_velocity)\n",
    "    \n",
    "    # Return previous errors\n",
    "    return error_yaw, error_fb, error_ud"
   ]
  },
  {
   "cell_type": "markdown",
   "metadata": {},
   "source": [
    "| Code Example                                 | Code Explanation                                                                          |\n",
    "|----------------------------------------------|-------------------------------------------------------------------------------------------|\n",
    "| `def trackFace(...)`                          | Function definition with multiple parameters including the drone object, PID constants, previous errors, and face area information. |\n",
    "| `if len(info) < 2:`                           | Checks if a face is detected; if not, the function returns previous errors.                |\n",
    "| `return pError_yaw, pError_fb, pError_ud`     | Returns the previous errors for yaw, forward-backward, and up-down when no face is detected. |\n",
    "| `error_yaw = info[0][0] - center`             | Calculates the yaw error based on the face's center and the frame's center.                |\n",
    "| `speed_yaw = pid_yaw[0] * error_yaw + pid_yaw[1] * (error_yaw - pError_yaw)` | Calculates the yaw speed adjustment using PID control. |\n",
    "| `speed_yaw = int(np.clip(speed_yaw, -60, 60))`| Clips the yaw speed within the range [-60, 60].                                            |\n",
    "| `error_fb = facearea - desiredfacearea`       | Calculates the forward-backward error based on current and desired face area.              |\n",
    "| `speed_fb = pid_fb[0] * error_fb + pid_fb[1] * (error_fb - pError_fb)`  | Calculates the forward-backward speed adjustment using PD control.                        |\n",
    "| `speed_fb = int(np.clip(speed_fb, -20, 20))`  | Clips the forward-backward speed within the range [-20, 20].                               |\n",
    "| `error_ud = info[0][1] - h // 2`              | Calculates the up-down error based on the face's center and frame's height.                |\n",
    "| `speed_ud = pid_ud[0] * error_ud + pid_ud[1] * (error_ud - pError_ud)`  | Calculates the up-down speed adjustment using PID control.                                |\n",
    "| `speed_ud = int(np.clip(speed_ud, -25, 25))`  | Clips the up-down speed within the range [-25, 25].                                        |\n",
    "| `if info[0][0]:`                              | Checks if a face is detected and adjusts drone's speed parameters accordingly.             |\n",
    "| `if myDrone.send_rc_control:`                 | Sends the updated drone control commands if the send function is available.                |\n",
    "| `return error_yaw, error_fb, error_ud`        | Returns the current errors for yaw, forward-backward, and up-down as the previous errors for the next iteration. |\n",
    "\n"
   ]
  }
 ],
 "metadata": {
  "kernelspec": {
   "display_name": "Python 3",
   "language": "python",
   "name": "python3"
  },
  "language_info": {
   "name": "python",
   "version": "3.9.9"
  }
 },
 "nbformat": 4,
 "nbformat_minor": 2
}
